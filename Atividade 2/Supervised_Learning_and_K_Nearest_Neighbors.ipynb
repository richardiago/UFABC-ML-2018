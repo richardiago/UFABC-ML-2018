{
 "cells": [
  {
   "cell_type": "markdown",
   "metadata": {},
   "source": [
    "# Aprendizado Supervisionado e K Vizinhos mais Próximos"
   ]
  },
  {
   "cell_type": "markdown",
   "metadata": {},
   "source": [
    "## Introdução\n",
    "\n",
    "Nós utilizaremos a base de dados de taxa de rejeição da indústria de telecomunicações para essa lista de exercícios. A base de dados tem o nome `Orange_Telecom_Churn_Data.csv`. Nesse notebook carregaremos a base de dados, faremos algum pré-processamento e usaremos a técnica k-NN para predizer a taxa de rejeição baseado nas características mensuradas."
   ]
  },
  {
   "cell_type": "markdown",
   "metadata": {},
   "source": [
    "## Exercício 1\n",
    "\n",
    "* Comece importando os dados através do pandas. Examine as colunas e os dados\n",
    "* Note que os dados contêm estado, código de área e telefone. Você acha que esses atributos são interessantes para construir nosso modelo de classificação? Por que?\n",
    "\n",
    "Não utilizaremos esses atributos para essa base, então eles podem ser removidos do dataframe (método `drop`)."
   ]
  },
  {
   "cell_type": "code",
   "execution_count": 41,
   "metadata": {},
   "outputs": [],
   "source": [
    "import pandas as pd\n",
    "\n",
    "arquivo = 'data/Orange_Telecom_Churn_Data.csv'\n",
    "\n",
    "df_telecom = pd.read_csv(arquivo)\n",
    "df_telecom = df_telecom.drop(columns=[\"state\", \"area_code\", \"phone_number\"])"
   ]
  },
  {
   "cell_type": "markdown",
   "metadata": {},
   "source": [
    "## Exercício 2\n",
    "\n",
    "* Note que algumas das colunas são categóricas e algumas são *float*. Esses atributos precisam ser numéricos para usar os algoritmos que aprenderemos no curso.\n",
    "* Finalmente, o algoritmo K-Vizinhos mais próximos necessita de dados escalonados. Escalone os dados utilizando um dos métodos aprendidos em aula."
   ]
  },
  {
   "cell_type": "code",
   "execution_count": 42,
   "metadata": {},
   "outputs": [],
   "source": [
    "import warnings\n",
    "warnings.filterwarnings('ignore', module='sklearn')\n",
    "\n",
    "from sklearn.preprocessing import MinMaxScaler, LabelBinarizer\n",
    "\n",
    "bin_cols = ['intl_plan', 'voice_mail_plan', 'churned']\n",
    "\n",
    "#Binarizar colunas categoricas\n",
    "lb = LabelBinarizer()\n",
    "\n",
    "for i in range(0, len(bin_cols)):\n",
    "    \n",
    "    labels = df_telecom[bin_cols[i]]\n",
    "    labels = list(set(labels))\n",
    "    lb.fit(labels)\n",
    "    df_telecom[bin_cols[i]] = lb.transform(df_telecom[bin_cols[i]])\n",
    "    \n",
    "#Escalonar dados\n",
    "minMax = MinMaxScaler(feature_range = (0,1))\n",
    "df_telecom = pd.DataFrame(minMax.fit_transform(df_telecom), columns= df_telecom.columns)"
   ]
  },
  {
   "cell_type": "markdown",
   "metadata": {},
   "source": [
    "## Exercício 3\n",
    "\n",
    "* Separe as colunas de atributos (todas menos `churned`) da  coluna de rótulo (`churned`). Isso criará duas tabelas.\n",
    "* Aplique o método `.fit()` do K-nearest neighbors com um valor de `n_neighbors=3` para essa base de dados e verifique o resultado com o método `.predict()` na mesma base."
   ]
  },
  {
   "cell_type": "code",
   "execution_count": 43,
   "metadata": {},
   "outputs": [],
   "source": [
    "x_cols = [x for x in df_telecom.columns if x != 'churned']\n",
    "\n",
    "X_data = df_telecom[x_cols]\n",
    "Y_data = df_telecom['churned']"
   ]
  },
  {
   "cell_type": "code",
   "execution_count": 44,
   "metadata": {},
   "outputs": [],
   "source": [
    "from sklearn.neighbors import KNeighborsClassifier\n",
    "\n",
    "knn = KNeighborsClassifier(n_neighbors=3, metric='minkowski', p=2)\n",
    "knn.fit(X_data, Y_data)\n",
    "yi = knn.predict(X_data)"
   ]
  },
  {
   "cell_type": "markdown",
   "metadata": {},
   "source": [
    "## Exercício 4\n",
    "\n",
    "Ainda não ensinamos formas de medir o erro, mas a acurácia é um conceito simples de entender--é a porcentagem de rótulos que foram corretamente classificados:\n",
    "\n",
    "$acc = \\frac{corretos}{total}$\n",
    "\n",
    "* Escreva uma função para calcular a acurácia usando os rótulos verdadeiros e os preditos.\n",
    "* Usando a função, calcule a acurácia do K-nn nos dados."
   ]
  },
  {
   "cell_type": "code",
   "execution_count": 45,
   "metadata": {},
   "outputs": [
    {
     "name": "stdout",
     "output_type": "stream",
     "text": [
      "A acurácia é de:  0.9422\n"
     ]
    }
   ],
   "source": [
    "def accuracy(real, predict):\n",
    "    \n",
    "    predict = list(predict)\n",
    "    real= list(real)\n",
    "    acertos = 0\n",
    "    \n",
    "    for i in range(0, len(predict)):\n",
    "        if predict[i] == real[i]:\n",
    "            acertos +=1\n",
    "    \n",
    "    #Retorna a acurácia\n",
    "    return (acertos/len(real))\n",
    "\n",
    "print(\"A acurácia é de: \", accuracy(Y_data, yi))"
   ]
  },
  {
   "cell_type": "markdown",
   "metadata": {},
   "source": [
    "## Exercício 5\n",
    "\n",
    "* Repita a aplicação do modelo K-nearest neighbors mas com o parâmetro `weights=distance`. Calcule a acurácia da função criada por você.\n",
    "* Repita a aplicação do modelo com `n_neighbors=3`, `weights=uniform` e `p=1` para utilizar a distância de Manhattan. Verifique os resultados.\n",
    "\n",
    "Quando as distâncias ponderadas são utilizadas para a parte 1 dessa questão, vocês obterão acurácia de 1.0. Por que isso ocorre? *Dica:* o KNN usa diretamente os dados para fazer a predição."
   ]
  },
  {
   "cell_type": "code",
   "execution_count": 46,
   "metadata": {},
   "outputs": [
    {
     "name": "stdout",
     "output_type": "stream",
     "text": [
      "Parte 1: A acuracia foi de  1.0\n",
      "Parte 2: A acuracia foi de  0.9456\n",
      "Isso ocorre porque com o parâmetro weights=distance os vizinhos mais próximos do ponto predito tem influência maior\n",
      "que vizinhos mais distantes pois usa-se o inverso da distancia\n"
     ]
    }
   ],
   "source": [
    "#Parte 1\n",
    "knn = KNeighborsClassifier(n_neighbors=3, weights='distance', metric='minkowski', p=2)\n",
    "knn.fit(X_data, Y_data)\n",
    "yi = knn.predict(X_data)\n",
    "\n",
    "print(\"Parte 1: A acuracia foi de \",accuracy(Y_data, yi))\n",
    "\n",
    "#Parte 2\n",
    "knn = KNeighborsClassifier(n_neighbors=3, weights='uniform', metric='minkowski', p=1)\n",
    "knn.fit(X_data, Y_data)\n",
    "yi = knn.predict(X_data)\n",
    "\n",
    "print(\"Parte 2: A acuracia foi de \",accuracy(Y_data, yi))\n",
    "\n",
    "print(\"Isso ocorre porque com o parâmetro weights=distance os vizinhos mais próximos do ponto predito tem influência maior\\nque vizinhos mais distantes pois usa-se o inverso da distancia\")"
   ]
  },
  {
   "cell_type": "markdown",
   "metadata": {},
   "source": [
    "## Exercício 6\n",
    "\n",
    "* Teste o modelo KNN utilizando valores de `n_neighbors` na faixa de 1 a 20. Deixe o restante dos parâmetros como o padrão. Armazene os valores de vizinhos e acurácia em uma lista no formato [(k, acuracia)].\n",
    "* Plote um gráfico do tipo *scatter* da acurácia vs vizinhos. O que acontece com `n_neighbors=1`? Por que isso ocorre?"
   ]
  },
  {
   "cell_type": "code",
   "execution_count": 47,
   "metadata": {},
   "outputs": [],
   "source": [
    "score_list = list()\n",
    "\n",
    "'''escreva no bloco abaixo'''\n",
    "\n",
    "for i in range(1,21):\n",
    "    \n",
    "    knn = KNeighborsClassifier(n_neighbors=i)\n",
    "    knn.fit(X_data, Y_data)\n",
    "    yi = knn.predict(X_data)\n",
    "    acuracia = accuracy(Y_data, yi)\n",
    "    score_list.append((i, acuracia))\n",
    "\n",
    "'''fim do código'''\n",
    "\n",
    "score_df = pd.DataFrame(score_list, columns=['k', 'accuracy'])"
   ]
  },
  {
   "cell_type": "code",
   "execution_count": 48,
   "metadata": {},
   "outputs": [],
   "source": [
    "# Import libraries to make the plot\n",
    "\n",
    "import matplotlib.pyplot as plt\n",
    "import seaborn as sns\n",
    "\n",
    "%matplotlib inline"
   ]
  },
  {
   "cell_type": "code",
   "execution_count": 49,
   "metadata": {},
   "outputs": [
    {
     "data": {
      "image/png": "[encoded data removed]",
      "text/plain": [
       "<matplotlib.figure.Figure at 0x7fea9a433d30>"
      ]
     },
     "metadata": {},
     "output_type": "display_data"
    }
   ],
   "source": [
    "sns.set_context('talk')\n",
    "sns.set_style('ticks')\n",
    "sns.set_palette('dark')\n",
    "\n",
    "ax = score_df.set_index('k').plot()\n",
    "\n",
    "ax.set(xlabel='k', ylabel='accuracy')\n",
    "ax.set_xticks(range(1, 21));"
   ]
  },
  {
   "cell_type": "code",
   "execution_count": 50,
   "metadata": {},
   "outputs": [
    {
     "name": "stdout",
     "output_type": "stream",
     "text": [
      "Para k=1 a acurácia é 1. Isso ocorre porque como estamos levando em consideração apenas um vizinho e estamos usando\n",
      "a própria base de treinamento para fazer as predições o algoritmo vai determinar que a menor distância é entre o ponto\n",
      "predito e ele mesmo que é zero. Assim todos os pontos seriam classificados corretamente.\n"
     ]
    }
   ],
   "source": [
    "print(\"Para k=1 a acurácia é 1. Isso ocorre porque como estamos levando em consideração apenas um vizinho e estamos usando\\na própria base de treinamento para fazer as predições o algoritmo vai determinar que a menor distância é entre o ponto\\npredito e ele mesmo que é zero. Assim todos os pontos seriam classificados corretamente.\")"
   ]
  },
  {
   "cell_type": "code",
   "execution_count": null,
   "metadata": {},
   "outputs": [],
   "source": []
  }
 ],
 "metadata": {
  "anaconda-cloud": {},
  "kernelspec": {
   "display_name": "Python 3",
   "language": "python",
   "name": "python3"
  },
  "language_info": {
   "codemirror_mode": {
    "name": "ipython",
    "version": 3
   },
   "file_extension": ".py",
   "mimetype": "text/x-python",
   "name": "python",
   "nbconvert_exporter": "python",
   "pygments_lexer": "ipython3",
   "version": "3.6.3"
  },
  "name": "Linear_Regression_and_K_Nearest_Neighbors_Exercises-ANSWERS",
  "notebookId": 2125319687183902
 },
 "nbformat": 4,
 "nbformat_minor": 1
}
